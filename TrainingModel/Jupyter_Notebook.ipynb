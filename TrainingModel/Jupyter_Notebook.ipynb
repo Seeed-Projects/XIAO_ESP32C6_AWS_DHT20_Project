{
 "cells": [
  {
   "cell_type": "code",
   "execution_count": 23,
   "id": "0c1d6f26",
   "metadata": {},
   "outputs": [
    {
     "name": "stdout",
     "output_type": "stream",
     "text": [
      "        humidity  temperature\n",
      "0      52.930164    24.315834\n",
      "1      52.861595    24.345970\n",
      "2      52.776527    24.326706\n",
      "3      52.679348    24.330330\n",
      "4      52.596760    24.330330\n",
      "...          ...          ...\n",
      "12032  52.900124    24.073029\n",
      "12033  52.892303    24.077606\n",
      "12034  52.867317    24.081230\n",
      "12035  52.865601    24.051666\n",
      "12036  52.905273    24.061203\n",
      "\n",
      "[12037 rows x 2 columns]\n"
     ]
    }
   ],
   "source": [
    "import pandas as pd\n",
    "\n",
    "# upload data and drop the columns '__dt'\n",
    "df = pd.read_csv('dht20testdata.csv')\n",
    "df = df.drop(columns=['__dt'])\n",
    "\n",
    "# define a path that you want to save your processed data\n",
    "local_clean_path = 'dht20testdata_processed.csv'\n",
    "local_train_data = df.values\n",
    "df.to_csv(local_clean_path, header=False, index=False)\n",
    "print(df)"
   ]
  },
  {
   "cell_type": "code",
   "execution_count": 3,
   "id": "496ebac0",
   "metadata": {},
   "outputs": [
    {
     "name": "stdout",
     "output_type": "stream",
     "text": [
      "success\n"
     ]
    }
   ],
   "source": [
    "import sagemaker\n",
    "import boto3\n",
    "\n",
    "# Initialize the boto3 and sagemaker session\n",
    "boto3_session = boto3.Session()\n",
    "sagemaker_session = sagemaker.Session(boto_session=boto3_session)\n",
    "\n",
    "# Get the execution role for the notebook instance.\n",
    "# This is the role that SageMaker would use to leverage AWS resources (S3, CloudWatch) on your behalf\n",
    "role = sagemaker.get_execution_role()  # Make sure this is available in your environment\n",
    "\n",
    "# Create S3 resource. Be careful: No capital letters in bucket_name.\n",
    "s3 = boto3.resource('s3')\n",
    "bucket_name = 'dht20rcfdemo'\n",
    "try:\n",
    "    s3.create_bucket(Bucket=bucket_name)\n",
    "    print('success')\n",
    "except Exception as e:\n",
    "    print('error:',e)"
   ]
  },
  {
   "cell_type": "code",
   "execution_count": 10,
   "id": "41803d75",
   "metadata": {},
   "outputs": [
    {
     "name": "stdout",
     "output_type": "stream",
     "text": [
      "data_path:s3://dht20rcfdemo/RCFDemo/dht20testdata_processed.csv\n"
     ]
    }
   ],
   "source": [
    "# Define your S3 bucket and prefix\n",
    "bucket = 'dht20rcfdemo'\n",
    "prefix = 'RCFDemo'\n",
    "\n",
    "# Upload the file to S3\n",
    "train_data = sagemaker_session.upload_data(path='dht20testdata_processed.csv', bucket=bucket, key_prefix=prefix)\n",
    "print('data_path:' + train_data)"
   ]
  },
  {
   "cell_type": "code",
   "execution_count": 15,
   "id": "56d97d63",
   "metadata": {},
   "outputs": [],
   "source": [
    "# Set up the Random Cut Forest estimator\n",
    "rcf = sagemaker.RandomCutForest(role=role,\n",
    "                      instance_count=1,\n",
    "                      instance_type='ml.m4.xlarge',\n",
    "                      data_location=train_data,\n",
    "                      output_path='s3://{}/{}/output'.format(bucket, prefix),\n",
    "                      num_samples_per_tree=512,\n",
    "                      num_trees=50)"
   ]
  },
  {
   "cell_type": "code",
   "execution_count": 17,
   "id": "bbe8a16b",
   "metadata": {},
   "outputs": [
    {
     "name": "stderr",
     "output_type": "stream",
     "text": [
      "INFO:sagemaker.image_uris:Same images used for training and inference. Defaulting to image scope: inference.\n",
      "INFO:sagemaker.image_uris:Ignoring unnecessary instance type: None.\n",
      "INFO:sagemaker:Creating training-job with name: randomcutforest-2024-03-18-10-42-59-597\n"
     ]
    },
    {
     "name": "stdout",
     "output_type": "stream",
     "text": [
      "2024-03-18 10:42:59 Starting - Starting the training job...\n",
      "2024-03-18 10:43:15 Starting - Preparing the instances for training...\n",
      "2024-03-18 10:43:51 Downloading - Downloading input data...\n",
      "2024-03-18 10:44:16 Downloading - Downloading the training image............\n",
      "2024-03-18 10:46:16 Training - Training image download completed. Training in progress..\u001b[34mDocker entrypoint called with argument(s): train\u001b[0m\n",
      "\u001b[34mRunning default environment configuration script\u001b[0m\n",
      "\u001b[34m/opt/amazon/lib/python3.8/site-packages/mxnet/model.py:97: SyntaxWarning: \"is\" with a literal. Did you mean \"==\"?\n",
      "  if num_device is 1 and 'dist' not in kvstore:\u001b[0m\n",
      "\u001b[34m/opt/amazon/lib/python3.8/site-packages/scipy/optimize/_shgo.py:495: SyntaxWarning: \"is\" with a literal. Did you mean \"==\"?\n",
      "  if cons['type'] is 'ineq':\u001b[0m\n",
      "\u001b[34m/opt/amazon/lib/python3.8/site-packages/scipy/optimize/_shgo.py:743: SyntaxWarning: \"is not\" with a literal. Did you mean \"!=\"?\n",
      "  if len(self.X_min) is not 0:\u001b[0m\n",
      "\u001b[34m[03/18/2024 10:46:36 INFO 140662585653056] Reading default configuration from /opt/amazon/lib/python3.8/site-packages/algorithm/resources/default-conf.json: {'num_samples_per_tree': 256, 'num_trees': 100, 'force_dense': 'true', 'eval_metrics': ['accuracy', 'precision_recall_fscore'], 'epochs': 1, 'mini_batch_size': 1000, '_log_level': 'info', '_kvstore': 'dist_async', '_num_kv_servers': 'auto', '_num_gpus': 'auto', '_tuning_objective_metric': '', '_ftp_port': 8999}\u001b[0m\n",
      "\u001b[34m[03/18/2024 10:46:36 INFO 140662585653056] Merging with provided configuration from /opt/ml/input/config/hyperparameters.json: {'feature_dim': '2', 'mini_batch_size': '1000', 'num_samples_per_tree': '512', 'num_trees': '50'}\u001b[0m\n",
      "\u001b[34m[03/18/2024 10:46:36 INFO 140662585653056] Final configuration: {'num_samples_per_tree': '512', 'num_trees': '50', 'force_dense': 'true', 'eval_metrics': ['accuracy', 'precision_recall_fscore'], 'epochs': 1, 'mini_batch_size': '1000', '_log_level': 'info', '_kvstore': 'dist_async', '_num_kv_servers': 'auto', '_num_gpus': 'auto', '_tuning_objective_metric': '', '_ftp_port': 8999, 'feature_dim': '2'}\u001b[0m\n",
      "\u001b[34m[03/18/2024 10:46:36 WARNING 140662585653056] Loggers have already been setup.\u001b[0m\n",
      "\u001b[34m[03/18/2024 10:46:36 INFO 140662585653056] Launching parameter server for role scheduler\u001b[0m\n",
      "\u001b[34m[03/18/2024 10:46:36 INFO 140662585653056] {'ENVROOT': '/opt/amazon', 'PROTOCOL_BUFFERS_PYTHON_IMPLEMENTATION': 'cpp', 'HOSTNAME': 'ip-10-2-223-56.ec2.internal', 'TRAINING_JOB_NAME': 'randomcutforest-2024-03-18-10-42-59-597', 'NVIDIA_REQUIRE_CUDA': 'cuda>=9.0', 'TRAINING_JOB_ARN': 'arn:aws:sagemaker:us-east-1:992531204647:training-job/randomcutforest-2024-03-18-10-42-59-597', 'AWS_CONTAINER_CREDENTIALS_RELATIVE_URI': '/v2/credentials/proxy-e565633055aa9ab0439e26e32ff47f5c7e5049017ded3d51b2f4214fe8fb5317-customer', 'CANONICAL_ENVROOT': '/opt/amazon', 'PYTHONUNBUFFERED': 'TRUE', 'NVIDIA_VISIBLE_DEVICES': 'all', 'LD_LIBRARY_PATH': '/opt/amazon/lib/python3.8/site-packages/cv2/../../../../lib:/usr/local/nvidia/lib64:/opt/amazon/lib', 'MXNET_KVSTORE_BIGARRAY_BOUND': '400000000', 'NVIDIA_DRIVER_CAPABILITIES': 'compute,utility', 'SAGEMAKER_MANAGED_WARMPOOL_CACHE_DIRECTORY': '/opt/ml/sagemaker/warmpoolcache', 'PATH': '/opt/amazon/bin:/usr/local/nvidia/bin:/usr/local/sbin:/usr/local/bin:/usr/sbin:/usr/bin:/sbin:/bin', 'PWD': '/', 'LANG': 'en_US.utf8', 'AWS_REGION': 'us-east-1', 'SAGEMAKER_METRICS_DIRECTORY': '/opt/ml/output/metrics/sagemaker', 'CUDA_VERSION': '11.1', 'HOME': '/root', 'SHLVL': '1', 'CUDA_COMPAT_NDRIVER_SUPPORTED_VERSION': '455.32.00', 'PROTOCOL_BUFFERS_PYTHON_IMPLEMENTATION_VERSION': '2', 'OMP_NUM_THREADS': '2', 'DMLC_INTERFACE': 'eth0', 'SAGEMAKER_HTTP_PORT': '8080', 'SAGEMAKER_DATA_PATH': '/opt/ml', 'KMP_DUPLICATE_LIB_OK': 'True', 'KMP_INIT_AT_FORK': 'FALSE'}\u001b[0m\n",
      "\u001b[34m[03/18/2024 10:46:36 INFO 140662585653056] envs={'ENVROOT': '/opt/amazon', 'PROTOCOL_BUFFERS_PYTHON_IMPLEMENTATION': 'cpp', 'HOSTNAME': 'ip-10-2-223-56.ec2.internal', 'TRAINING_JOB_NAME': 'randomcutforest-2024-03-18-10-42-59-597', 'NVIDIA_REQUIRE_CUDA': 'cuda>=9.0', 'TRAINING_JOB_ARN': 'arn:aws:sagemaker:us-east-1:992531204647:training-job/randomcutforest-2024-03-18-10-42-59-597', 'AWS_CONTAINER_CREDENTIALS_RELATIVE_URI': '/v2/credentials/proxy-e565633055aa9ab0439e26e32ff47f5c7e5049017ded3d51b2f4214fe8fb5317-customer', 'CANONICAL_ENVROOT': '/opt/amazon', 'PYTHONUNBUFFERED': 'TRUE', 'NVIDIA_VISIBLE_DEVICES': 'all', 'LD_LIBRARY_PATH': '/opt/amazon/lib/python3.8/site-packages/cv2/../../../../lib:/usr/local/nvidia/lib64:/opt/amazon/lib', 'MXNET_KVSTORE_BIGARRAY_BOUND': '400000000', 'NVIDIA_DRIVER_CAPABILITIES': 'compute,utility', 'SAGEMAKER_MANAGED_WARMPOOL_CACHE_DIRECTORY': '/opt/ml/sagemaker/warmpoolcache', 'PATH': '/opt/amazon/bin:/usr/local/nvidia/bin:/usr/local/sbin:/usr/local/bin:/usr/sbin:/usr/bin:/sbin:/bin', 'PWD': '/', 'LANG': 'en_US.utf8', 'AWS_REGION': 'us-east-1', 'SAGEMAKER_METRICS_DIRECTORY': '/opt/ml/output/metrics/sagemaker', 'CUDA_VERSION': '11.1', 'HOME': '/root', 'SHLVL': '1', 'CUDA_COMPAT_NDRIVER_SUPPORTED_VERSION': '455.32.00', 'PROTOCOL_BUFFERS_PYTHON_IMPLEMENTATION_VERSION': '2', 'OMP_NUM_THREADS': '2', 'DMLC_INTERFACE': 'eth0', 'SAGEMAKER_HTTP_PORT': '8080', 'SAGEMAKER_DATA_PATH': '/opt/ml', 'KMP_DUPLICATE_LIB_OK': 'True', 'KMP_INIT_AT_FORK': 'FALSE', 'DMLC_ROLE': 'scheduler', 'DMLC_PS_ROOT_URI': '10.2.223.56', 'DMLC_PS_ROOT_PORT': '9000', 'DMLC_NUM_SERVER': '1', 'DMLC_NUM_WORKER': '1'}\u001b[0m\n",
      "\u001b[34m[03/18/2024 10:46:36 INFO 140662585653056] Launching parameter server for role server\u001b[0m\n",
      "\u001b[34m[03/18/2024 10:46:36 INFO 140662585653056] {'ENVROOT': '/opt/amazon', 'PROTOCOL_BUFFERS_PYTHON_IMPLEMENTATION': 'cpp', 'HOSTNAME': 'ip-10-2-223-56.ec2.internal', 'TRAINING_JOB_NAME': 'randomcutforest-2024-03-18-10-42-59-597', 'NVIDIA_REQUIRE_CUDA': 'cuda>=9.0', 'TRAINING_JOB_ARN': 'arn:aws:sagemaker:us-east-1:992531204647:training-job/randomcutforest-2024-03-18-10-42-59-597', 'AWS_CONTAINER_CREDENTIALS_RELATIVE_URI': '/v2/credentials/proxy-e565633055aa9ab0439e26e32ff47f5c7e5049017ded3d51b2f4214fe8fb5317-customer', 'CANONICAL_ENVROOT': '/opt/amazon', 'PYTHONUNBUFFERED': 'TRUE', 'NVIDIA_VISIBLE_DEVICES': 'all', 'LD_LIBRARY_PATH': '/opt/amazon/lib/python3.8/site-packages/cv2/../../../../lib:/usr/local/nvidia/lib64:/opt/amazon/lib', 'MXNET_KVSTORE_BIGARRAY_BOUND': '400000000', 'NVIDIA_DRIVER_CAPABILITIES': 'compute,utility', 'SAGEMAKER_MANAGED_WARMPOOL_CACHE_DIRECTORY': '/opt/ml/sagemaker/warmpoolcache', 'PATH': '/opt/amazon/bin:/usr/local/nvidia/bin:/usr/local/sbin:/usr/local/bin:/usr/sbin:/usr/bin:/sbin:/bin', 'PWD': '/', 'LANG': 'en_US.utf8', 'AWS_REGION': 'us-east-1', 'SAGEMAKER_METRICS_DIRECTORY': '/opt/ml/output/metrics/sagemaker', 'CUDA_VERSION': '11.1', 'HOME': '/root', 'SHLVL': '1', 'CUDA_COMPAT_NDRIVER_SUPPORTED_VERSION': '455.32.00', 'PROTOCOL_BUFFERS_PYTHON_IMPLEMENTATION_VERSION': '2', 'OMP_NUM_THREADS': '2', 'DMLC_INTERFACE': 'eth0', 'SAGEMAKER_HTTP_PORT': '8080', 'SAGEMAKER_DATA_PATH': '/opt/ml', 'KMP_DUPLICATE_LIB_OK': 'True', 'KMP_INIT_AT_FORK': 'FALSE'}\u001b[0m\n",
      "\u001b[34m[03/18/2024 10:46:36 INFO 140662585653056] envs={'ENVROOT': '/opt/amazon', 'PROTOCOL_BUFFERS_PYTHON_IMPLEMENTATION': 'cpp', 'HOSTNAME': 'ip-10-2-223-56.ec2.internal', 'TRAINING_JOB_NAME': 'randomcutforest-2024-03-18-10-42-59-597', 'NVIDIA_REQUIRE_CUDA': 'cuda>=9.0', 'TRAINING_JOB_ARN': 'arn:aws:sagemaker:us-east-1:992531204647:training-job/randomcutforest-2024-03-18-10-42-59-597', 'AWS_CONTAINER_CREDENTIALS_RELATIVE_URI': '/v2/credentials/proxy-e565633055aa9ab0439e26e32ff47f5c7e5049017ded3d51b2f4214fe8fb5317-customer', 'CANONICAL_ENVROOT': '/opt/amazon', 'PYTHONUNBUFFERED': 'TRUE', 'NVIDIA_VISIBLE_DEVICES': 'all', 'LD_LIBRARY_PATH': '/opt/amazon/lib/python3.8/site-packages/cv2/../../../../lib:/usr/local/nvidia/lib64:/opt/amazon/lib', 'MXNET_KVSTORE_BIGARRAY_BOUND': '400000000', 'NVIDIA_DRIVER_CAPABILITIES': 'compute,utility', 'SAGEMAKER_MANAGED_WARMPOOL_CACHE_DIRECTORY': '/opt/ml/sagemaker/warmpoolcache', 'PATH': '/opt/amazon/bin:/usr/local/nvidia/bin:/usr/local/sbin:/usr/local/bin:/usr/sbin:/usr/bin:/sbin:/bin', 'PWD': '/', 'LANG': 'en_US.utf8', 'AWS_REGION': 'us-east-1', 'SAGEMAKER_METRICS_DIRECTORY': '/opt/ml/output/metrics/sagemaker', 'CUDA_VERSION': '11.1', 'HOME': '/root', 'SHLVL': '1', 'CUDA_COMPAT_NDRIVER_SUPPORTED_VERSION': '455.32.00', 'PROTOCOL_BUFFERS_PYTHON_IMPLEMENTATION_VERSION': '2', 'OMP_NUM_THREADS': '2', 'DMLC_INTERFACE': 'eth0', 'SAGEMAKER_HTTP_PORT': '8080', 'SAGEMAKER_DATA_PATH': '/opt/ml', 'KMP_DUPLICATE_LIB_OK': 'True', 'KMP_INIT_AT_FORK': 'FALSE', 'DMLC_ROLE': 'server', 'DMLC_PS_ROOT_URI': '10.2.223.56', 'DMLC_PS_ROOT_PORT': '9000', 'DMLC_NUM_SERVER': '1', 'DMLC_NUM_WORKER': '1'}\u001b[0m\n",
      "\u001b[34m[03/18/2024 10:46:36 INFO 140662585653056] Environment: {'ENVROOT': '/opt/amazon', 'PROTOCOL_BUFFERS_PYTHON_IMPLEMENTATION': 'cpp', 'HOSTNAME': 'ip-10-2-223-56.ec2.internal', 'TRAINING_JOB_NAME': 'randomcutforest-2024-03-18-10-42-59-597', 'NVIDIA_REQUIRE_CUDA': 'cuda>=9.0', 'TRAINING_JOB_ARN': 'arn:aws:sagemaker:us-east-1:992531204647:training-job/randomcutforest-2024-03-18-10-42-59-597', 'AWS_CONTAINER_CREDENTIALS_RELATIVE_URI': '/v2/credentials/proxy-e565633055aa9ab0439e26e32ff47f5c7e5049017ded3d51b2f4214fe8fb5317-customer', 'CANONICAL_ENVROOT': '/opt/amazon', 'PYTHONUNBUFFERED': 'TRUE', 'NVIDIA_VISIBLE_DEVICES': 'all', 'LD_LIBRARY_PATH': '/opt/amazon/lib/python3.8/site-packages/cv2/../../../../lib:/usr/local/nvidia/lib64:/opt/amazon/lib', 'MXNET_KVSTORE_BIGARRAY_BOUND': '400000000', 'NVIDIA_DRIVER_CAPABILITIES': 'compute,utility', 'SAGEMAKER_MANAGED_WARMPOOL_CACHE_DIRECTORY': '/opt/ml/sagemaker/warmpoolcache', 'PATH': '/opt/amazon/bin:/usr/local/nvidia/bin:/usr/local/sbin:/usr/local/bin:/usr/sbin:/usr/bin:/sbin:/bin', 'PWD': '/', 'LANG': 'en_US.utf8', 'AWS_REGION': 'us-east-1', 'SAGEMAKER_METRICS_DIRECTORY': '/opt/ml/output/metrics/sagemaker', 'CUDA_VERSION': '11.1', 'HOME': '/root', 'SHLVL': '1', 'CUDA_COMPAT_NDRIVER_SUPPORTED_VERSION': '455.32.00', 'PROTOCOL_BUFFERS_PYTHON_IMPLEMENTATION_VERSION': '2', 'OMP_NUM_THREADS': '2', 'DMLC_INTERFACE': 'eth0', 'SAGEMAKER_HTTP_PORT': '8080', 'SAGEMAKER_DATA_PATH': '/opt/ml', 'KMP_DUPLICATE_LIB_OK': 'True', 'KMP_INIT_AT_FORK': 'FALSE', 'DMLC_ROLE': 'worker', 'DMLC_PS_ROOT_URI': '10.2.223.56', 'DMLC_PS_ROOT_PORT': '9000', 'DMLC_NUM_SERVER': '1', 'DMLC_NUM_WORKER': '1'}\u001b[0m\n",
      "\u001b[34mProcess 34 is a shell:scheduler.\u001b[0m\n",
      "\u001b[34mProcess 43 is a shell:server.\u001b[0m\n",
      "\u001b[34mProcess 7 is a worker.\u001b[0m\n",
      "\u001b[34m[03/18/2024 10:46:36 INFO 140662585653056] Using default worker.\u001b[0m\n",
      "\u001b[34m[03/18/2024 10:46:36 INFO 140662585653056] Loaded iterator creator application/x-recordio-protobuf for content type ('application/x-recordio-protobuf', '1.0')\u001b[0m\n",
      "\u001b[34m[03/18/2024 10:46:36 INFO 140662585653056] Checkpoint loading and saving are disabled.\u001b[0m\n",
      "\u001b[34m[03/18/2024 10:46:36 INFO 140662585653056] Verifying hyperparamemters...\u001b[0m\n",
      "\u001b[34m[03/18/2024 10:46:36 INFO 140662585653056] Hyperparameters are correct.\u001b[0m\n",
      "\u001b[34m[03/18/2024 10:46:36 INFO 140662585653056] Validating that feature_dim agrees with dimensions in training data...\u001b[0m\n",
      "\u001b[34m[03/18/2024 10:46:36 INFO 140662585653056] feature_dim is correct.\u001b[0m\n",
      "\u001b[34m[03/18/2024 10:46:36 INFO 140662585653056] Validating memory limits...\u001b[0m\n",
      "\u001b[34m[03/18/2024 10:46:36 INFO 140662585653056] Available memory in bytes: 15356596224\u001b[0m\n",
      "\u001b[34m[03/18/2024 10:46:36 INFO 140662585653056] Estimated sample size in bytes: 819200\u001b[0m\n",
      "\u001b[34m[03/18/2024 10:46:36 INFO 140662585653056] Estimated memory needed to build the forest in bytes: 2048000\u001b[0m\n",
      "\u001b[34m[03/18/2024 10:46:36 INFO 140662585653056] Memory limits validated.\u001b[0m\n",
      "\u001b[34m[03/18/2024 10:46:36 INFO 140662585653056] Starting cluster sharing facilities...\u001b[0m\n",
      "\u001b[34m[03/18/2024 10:46:36 INFO 140659889526528] concurrency model: async\u001b[0m\n",
      "\u001b[34m[03/18/2024 10:46:36 INFO 140659889526528] masquerade (NAT) address: None\u001b[0m\n",
      "\u001b[34m[03/18/2024 10:46:36 INFO 140662585653056] Create Store: dist_async\u001b[0m\n",
      "\u001b[34m[03/18/2024 10:46:36 INFO 140659889526528] passive ports: None\u001b[0m\n",
      "\u001b[34m[03/18/2024 10:46:36 INFO 140659889526528] >>> starting FTP server on 0.0.0.0:8999, pid=7 <<<\u001b[0m\n",
      "\u001b[34m[03/18/2024 10:46:38 INFO 140662585653056] Cluster sharing facilities started.\u001b[0m\n",
      "\u001b[34m[03/18/2024 10:46:38 INFO 140662585653056] Verifying all workers are accessible...\u001b[0m\n",
      "\u001b[34m[03/18/2024 10:46:38 INFO 140662585653056] All workers accessible.\u001b[0m\n",
      "\u001b[34m[03/18/2024 10:46:38 INFO 140662585653056] Initializing Sampler...\u001b[0m\n",
      "\u001b[34m[03/18/2024 10:46:38 INFO 140662585653056] Sampler correctly initialized.\u001b[0m\n",
      "\u001b[34m#metrics {\"StartTime\": 1710758796.7742195, \"EndTime\": 1710758798.1868653, \"Dimensions\": {\"Algorithm\": \"RandomCutForest\", \"Host\": \"algo-1\", \"Operation\": \"training\"}, \"Metrics\": {\"initialize.time\": {\"sum\": 1409.3048572540283, \"count\": 1, \"min\": 1409.3048572540283, \"max\": 1409.3048572540283}}}\u001b[0m\n",
      "\u001b[34m#metrics {\"StartTime\": 1710758798.187331, \"EndTime\": 1710758798.1873953, \"Dimensions\": {\"Algorithm\": \"RandomCutForest\", \"Host\": \"algo-1\", \"Operation\": \"training\", \"Meta\": \"init_train_data_iter\"}, \"Metrics\": {\"Total Records Seen\": {\"sum\": 0.0, \"count\": 1, \"min\": 0, \"max\": 0}, \"Total Batches Seen\": {\"sum\": 0.0, \"count\": 1, \"min\": 0, \"max\": 0}, \"Max Records Seen Between Resets\": {\"sum\": 0.0, \"count\": 1, \"min\": 0, \"max\": 0}, \"Max Batches Seen Between Resets\": {\"sum\": 0.0, \"count\": 1, \"min\": 0, \"max\": 0}, \"Reset Count\": {\"sum\": 0.0, \"count\": 1, \"min\": 0, \"max\": 0}, \"Number of Records Since Last Reset\": {\"sum\": 0.0, \"count\": 1, \"min\": 0, \"max\": 0}, \"Number of Batches Since Last Reset\": {\"sum\": 0.0, \"count\": 1, \"min\": 0, \"max\": 0}}}\u001b[0m\n",
      "\u001b[34m[2024-03-18 10:46:38.187] [tensorio] [info] epoch_stats={\"data_pipeline\": \"/opt/ml/input/data/train\", \"epoch\": 0, \"duration\": 1412, \"num_examples\": 1, \"num_bytes\": 40000}\u001b[0m\n",
      "\u001b[34m[03/18/2024 10:46:38 INFO 140662585653056] Sampling training data...\u001b[0m\n",
      "\u001b[34m[2024-03-18 10:46:38.209] [tensorio] [info] epoch_stats={\"data_pipeline\": \"/opt/ml/input/data/train\", \"epoch\": 1, \"duration\": 21, \"num_examples\": 13, \"num_bytes\": 481480}\u001b[0m\n",
      "\u001b[34m[03/18/2024 10:46:38 INFO 140662585653056] Sampling training data completed.\u001b[0m\n",
      "\u001b[34m#metrics {\"StartTime\": 1710758798.187247, \"EndTime\": 1710758798.211323, \"Dimensions\": {\"Algorithm\": \"RandomCutForest\", \"Host\": \"algo-1\", \"Operation\": \"training\"}, \"Metrics\": {\"epochs\": {\"sum\": 1.0, \"count\": 1, \"min\": 1, \"max\": 1}, \"update.time\": {\"sum\": 23.519515991210938, \"count\": 1, \"min\": 23.519515991210938, \"max\": 23.519515991210938}}}\u001b[0m\n",
      "\u001b[34m[03/18/2024 10:46:38 INFO 140662585653056] Early stop condition met. Stopping training.\u001b[0m\n",
      "\u001b[34m[03/18/2024 10:46:38 INFO 140662585653056] #progress_metric: host=algo-1, completed 100 % epochs\u001b[0m\n",
      "\u001b[34m#metrics {\"StartTime\": 1710758798.1877732, \"EndTime\": 1710758798.2118742, \"Dimensions\": {\"Algorithm\": \"RandomCutForest\", \"Host\": \"algo-1\", \"Operation\": \"training\", \"epoch\": 0, \"Meta\": \"training_data_iter\"}, \"Metrics\": {\"Total Records Seen\": {\"sum\": 12037.0, \"count\": 1, \"min\": 12037, \"max\": 12037}, \"Total Batches Seen\": {\"sum\": 13.0, \"count\": 1, \"min\": 13, \"max\": 13}, \"Max Records Seen Between Resets\": {\"sum\": 12037.0, \"count\": 1, \"min\": 12037, \"max\": 12037}, \"Max Batches Seen Between Resets\": {\"sum\": 13.0, \"count\": 1, \"min\": 13, \"max\": 13}, \"Reset Count\": {\"sum\": 1.0, \"count\": 1, \"min\": 1, \"max\": 1}, \"Number of Records Since Last Reset\": {\"sum\": 12037.0, \"count\": 1, \"min\": 12037, \"max\": 12037}, \"Number of Batches Since Last Reset\": {\"sum\": 13.0, \"count\": 1, \"min\": 13, \"max\": 13}}}\u001b[0m\n",
      "\u001b[34m[03/18/2024 10:46:38 INFO 140662585653056] #throughput_metric: host=algo-1, train throughput=496004.7672885535 records/second\u001b[0m\n",
      "\u001b[34m[03/18/2024 10:46:38 INFO 140662585653056] Master node: building Random Cut Forest...\u001b[0m\n",
      "\u001b[34m[03/18/2024 10:46:38 INFO 140662585653056] Gathering samples...\u001b[0m\n",
      "\u001b[34m[03/18/2024 10:46:38 INFO 140662585653056] 12037 samples gathered\u001b[0m\n",
      "\u001b[34m[03/18/2024 10:46:38 INFO 140662585653056] Building Random Cut Forest...\u001b[0m\n",
      "\u001b[34m[03/18/2024 10:46:38 INFO 140662585653056] Random Cut Forest built: \u001b[0m\n",
      "\u001b[34mForestInfo{num_trees: 50, num_samples_in_forest: 12000, num_samples_per_tree: 240, sample_dim: 2, shingle_size: 1, trees_num_nodes: [479, 479, 479, 479, 479, 479, 479, 479, 479, 479, 479, 479, 479, 479, 479, 479, 479, 479, 479, 479, 479, 479, 479, 479, 479, 479, 479, 479, 479, 479, 479, 479, 479, 479, 479, 479, 479, 479, 479, 479, 479, 479, 479, 479, 479, 479, 479, 479, 479, 479, ], trees_depth: [20, 20, 21, 18, 21, 19, 20, 22, 19, 20, 20, 18, 21, 21, 21, 19, 18, 16, 15, 18, 17, 19, 22, 25, 27, 17, 18, 16, 22, 19, 18, 19, 23, 20, 20, 18, 18, 19, 18, 22, 19, 19, 18, 21, 18, 19, 21, 17, 20, 22, ], max_num_nodes: 479, min_num_nodes: 479, avg_num_nodes: 479, max_tree_depth: 27, min_tree_depth: 15, avg_tree_depth: 19, mem_size: 2874448}\u001b[0m\n",
      "\u001b[34m#metrics {\"StartTime\": 1710758798.2114167, \"EndTime\": 1710758798.2314303, \"Dimensions\": {\"Algorithm\": \"RandomCutForest\", \"Host\": \"algo-1\", \"Operation\": \"training\"}, \"Metrics\": {\"fit_model.time\": {\"sum\": 7.7953338623046875, \"count\": 1, \"min\": 7.7953338623046875, \"max\": 7.7953338623046875}, \"model.bytes\": {\"sum\": 2874448.0, \"count\": 1, \"min\": 2874448, \"max\": 2874448}, \"finalize.time\": {\"sum\": 19.18172836303711, \"count\": 1, \"min\": 19.18172836303711, \"max\": 19.18172836303711}}}\u001b[0m\n",
      "\u001b[34m[03/18/2024 10:46:38 INFO 140662585653056] Master node: Serializing the RandomCutForest model\u001b[0m\n",
      "\u001b[34m#metrics {\"StartTime\": 1710758798.231531, \"EndTime\": 1710758798.2907512, \"Dimensions\": {\"Algorithm\": \"RandomCutForest\", \"Host\": \"algo-1\", \"Operation\": \"training\"}, \"Metrics\": {\"serialize_model.time\": {\"sum\": 59.1580867767334, \"count\": 1, \"min\": 59.1580867767334, \"max\": 59.1580867767334}}}\u001b[0m\n",
      "\u001b[34m[03/18/2024 10:46:38 INFO 140662585653056] Test data is not provided.\u001b[0m\n",
      "\u001b[34m#metrics {\"StartTime\": 1710758798.2908423, \"EndTime\": 1710758798.2939832, \"Dimensions\": {\"Algorithm\": \"RandomCutForest\", \"Host\": \"algo-1\", \"Operation\": \"training\"}, \"Metrics\": {\"setuptime\": {\"sum\": 35.19868850708008, \"count\": 1, \"min\": 35.19868850708008, \"max\": 35.19868850708008}, \"totaltime\": {\"sum\": 1562.117099761963, \"count\": 1, \"min\": 1562.117099761963, \"max\": 1562.117099761963}}}\u001b[0m\n",
      "\n",
      "2024-03-18 10:46:57 Uploading - Uploading generated training model\n",
      "2024-03-18 10:46:57 Completed - Training job completed\n",
      "Training seconds: 187\n",
      "Billable seconds: 187\n"
     ]
    }
   ],
   "source": [
    "# Train model\n",
    "rcf.fit(rcf.record_set(local_train_data))"
   ]
  },
  {
   "cell_type": "code",
   "execution_count": 18,
   "id": "ba3607a7",
   "metadata": {},
   "outputs": [
    {
     "name": "stderr",
     "output_type": "stream",
     "text": [
      "INFO:sagemaker.image_uris:Same images used for training and inference. Defaulting to image scope: inference.\n",
      "INFO:sagemaker.image_uris:Ignoring unnecessary instance type: None.\n",
      "INFO:sagemaker:Creating model with name: randomcutforest-2024-03-18-10-47-37-165\n",
      "INFO:sagemaker:Creating endpoint-config with name randomcutforest-2024-03-18-10-47-37-165\n",
      "INFO:sagemaker:Creating endpoint with name randomcutforest-2024-03-18-10-47-37-165\n"
     ]
    },
    {
     "name": "stdout",
     "output_type": "stream",
     "text": [
      "-------!"
     ]
    }
   ],
   "source": [
    "# Deploy the model to an endpoint\n",
    "predictor = rcf.deploy(\n",
    "    initial_instance_count=1,\n",
    "    instance_type='ml.m4.xlarge'\n",
    ")"
   ]
  },
  {
   "cell_type": "code",
   "execution_count": 19,
   "id": "9a31a248",
   "metadata": {},
   "outputs": [
    {
     "data": {
      "text/plain": [
       "'randomcutforest-2024-03-18-10-47-37-165'"
      ]
     },
     "execution_count": 19,
     "metadata": {},
     "output_type": "execute_result"
    }
   ],
   "source": [
    "# Get the endpoint name that we will use it later\n",
    "predictor.endpoint_name"
   ]
  },
  {
   "cell_type": "code",
   "execution_count": 21,
   "id": "c4cfb815",
   "metadata": {},
   "outputs": [
    {
     "name": "stdout",
     "output_type": "stream",
     "text": [
      "[label {\n",
      "  key: \"score\"\n",
      "  value {\n",
      "    float32_tensor {\n",
      "      values: 6.37300253\n",
      "    }\n",
      "  }\n",
      "}\n",
      "]\n"
     ]
    }
   ],
   "source": [
    "#test the trained model effect\n",
    "import numpy as np\n",
    "arr1 = np.array([[52.93016434, 34.31583405]])\n",
    "result1 = predictor.predict(arr1)\n",
    "print(result1)"
   ]
  },
  {
   "cell_type": "code",
   "execution_count": 22,
   "id": "20360357",
   "metadata": {},
   "outputs": [
    {
     "data": {
      "text/plain": [
       "'normal'"
      ]
     },
     "execution_count": 22,
     "metadata": {},
     "output_type": "execute_result"
    }
   ],
   "source": [
    "#lambda function\n",
    "import boto3\n",
    "import json\n",
    "\n",
    "ENDPOINT_NAME = 'randomcutforest-2024-03-18-10-47-37-165'\n",
    "runtime = boto3.client('runtime.sagemaker')\n",
    "\n",
    "def lambda_handler(event, context):\n",
    "    input = event['data']\n",
    "    \n",
    "    serialized_input = ','.join(map(str, input))\n",
    "\n",
    "    response = runtime.invoke_endpoint(EndpointName=ENDPOINT_NAME, \n",
    "                                       ContentType='text/csv', \n",
    "                                       Body=serialized_input)\n",
    "\n",
    "    result_str = response['Body'].read().decode()\n",
    "    result_json = json.loads(result_str)\n",
    "    inference = result_json['scores'][0]['score']\n",
    "    \n",
    "    result = \"\";\n",
    "    if(inference>5):\n",
    "        result = \"abnormal\";\n",
    "    else:\n",
    "        result = \"normal\";\n",
    "\n",
    "    return result\n",
    "\n",
    "\n",
    "Input_json = { 'data':[52.93016434, 24.31583405]}\n",
    "\n",
    "result = lambda_handler(Input_json, _)\n",
    "result\n"
   ]
  },
  {
   "cell_type": "code",
   "execution_count": null,
   "id": "de56fd96",
   "metadata": {},
   "outputs": [],
   "source": [
    "# test API gateway\n",
    "\n",
    "import requests\n",
    "\n",
    "# put your API link here\n",
    "API_ENDPOINT = \"https://rtch7hy6yk.execute-api.us-east-1.amazonaws.com/DHT20API\"\n",
    "\n",
    "# data sent to api\n",
    "json = { 'data':[62.93016434, 24.31583405]}\n",
    "\n",
    "# sending post request and saving response as response object\n",
    "r = requests.post(url=API_ENDPOINT, json=json)\n",
    "\n",
    "print(r.json())"
   ]
  }
 ],
 "metadata": {
  "kernelspec": {
   "display_name": "conda_python3",
   "language": "python",
   "name": "conda_python3"
  },
  "language_info": {
   "codemirror_mode": {
    "name": "ipython",
    "version": 3
   },
   "file_extension": ".py",
   "mimetype": "text/x-python",
   "name": "python",
   "nbconvert_exporter": "python",
   "pygments_lexer": "ipython3",
   "version": "3.10.13"
  }
 },
 "nbformat": 4,
 "nbformat_minor": 5
}
