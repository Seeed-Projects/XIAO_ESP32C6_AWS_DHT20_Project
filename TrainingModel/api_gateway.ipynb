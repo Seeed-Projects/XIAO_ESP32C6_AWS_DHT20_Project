{
 "cells": [
  {
   "cell_type": "code",
   "execution_count": null,
   "id": "de56fd96",
   "metadata": {},
   "outputs": [],
   "source": [
    "# test API gateway\n",
    "\n",
    "import requests\n",
    "\n",
    "# put your API link here\n",
    "API_ENDPOINT = \"https://rtch7hy6yk.execute-api.us-east-1.amazonaws.com/DHT20API\"\n",
    "\n",
    "# data sent to api\n",
    "json = { 'data':[62.93016434, 24.31583405]}\n",
    "\n",
    "# sending post request and saving response as response object\n",
    "r = requests.post(url=API_ENDPOINT, json=json)\n",
    "\n",
    "print(r.json())"
   ]
  }
 ],
 "metadata": {
  "kernelspec": {
   "display_name": "conda_python3",
   "language": "python",
   "name": "conda_python3"
  },
  "language_info": {
   "codemirror_mode": {
    "name": "ipython",
    "version": 3
   },
   "file_extension": ".py",
   "mimetype": "text/x-python",
   "name": "python",
   "nbconvert_exporter": "python",
   "pygments_lexer": "ipython3",
   "version": "3.10.13"
  }
 },
 "nbformat": 4,
 "nbformat_minor": 5
}
