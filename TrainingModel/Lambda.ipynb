{
 "cells": [
  {
   "cell_type": "code",
   "execution_count": null,
   "id": "243e8c2c",
   "metadata": {},
   "outputs": [],
   "source": [
    "#lambda function with sns\n",
    "import boto3\n",
    "import json\n",
    "\n",
    "ENDPOINT_NAME = 'randomcutforest-2024-03-18-10-47-37-165'# your endpoint past here\n",
    "runtime = boto3.client('runtime.sagemaker')\n",
    "email_client = boto3.client('sns')\n",
    "\n",
    "def lambda_handler(event, context):\n",
    "    input = event['data']\n",
    "    \n",
    "    serialized_input = ','.join(map(str, input))\n",
    "\n",
    "    response = runtime.invoke_endpoint(EndpointName=ENDPOINT_NAME, \n",
    "                                       ContentType='text/csv', \n",
    "                                       Body=serialized_input)\n",
    "\n",
    "    result_str = response['Body'].read().decode()\n",
    "    result_json = json.loads(result_str)\n",
    "    inference = result_json['scores'][0]['score']\n",
    "    \n",
    "    try:\n",
    "        if(inference>3):\n",
    "            response_sns = email_client.publish(\n",
    "                TopicArn='arn:aws:sns:us-east-1:381491976713:dhco2Topic2',# your sns topic past here\n",
    "                Message='Enviroment data is abnormal',\n",
    "                Subject='Enviroment Status'\n",
    "            )\n",
    "    except Exception as e:\n",
    "        print(f\"error: {e}\")\n",
    "\n",
    "    return inference\n",
    "\n"
   ]
  }
 ],
 "metadata": {
  "kernelspec": {
   "display_name": "conda_python3",
   "language": "python",
   "name": "conda_python3"
  },
  "language_info": {
   "codemirror_mode": {
    "name": "ipython",
    "version": 3
   },
   "file_extension": ".py",
   "mimetype": "text/x-python",
   "name": "python",
   "nbconvert_exporter": "python",
   "pygments_lexer": "ipython3",
   "version": "3.10.13"
  }
 },
 "nbformat": 4,
 "nbformat_minor": 5
}
